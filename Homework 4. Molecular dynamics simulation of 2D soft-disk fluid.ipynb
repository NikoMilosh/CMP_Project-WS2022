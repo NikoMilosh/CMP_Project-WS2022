{
 "cells": [
  {
   "cell_type": "markdown",
   "id": "9b6f309c",
   "metadata": {},
   "source": [
    "# Homework 4. Moleculal dynamics simulation  of 2D soft-disk fluid"
   ]
  },
  {
   "cell_type": "markdown",
   "id": "0fd3d078",
   "metadata": {},
   "source": [
    "In this homework, you will use molecular dynamics to simulate the behavior of fluid consisting of soft disks in two dimensions. The particles in this fluid interact with each other via the pairwise potential of the following form: \n",
    "\n",
    " $$  u(r_{ij})=\\left\\{\n",
    "                \\begin{array}{ll}\n",
    "                  4\\epsilon \\left[ \n",
    "                  \\left (\n",
    "                  \\frac{\\sigma}{r_{ij} }\n",
    "                  \\right )^{12} \n",
    "                  -\n",
    "                   \\left (\n",
    "                  \\frac{\\sigma}{r_{ij} }\n",
    "                  \\right )^{6} + \n",
    "                  \\right ] + \\epsilon,  \\ r_{ij} < r_c\\\\\n",
    "                  0, r_{ij} \\geq r_c, r_c = 2^{1/6}\\sigma\n",
    "                \\end{array}\n",
    "              \\right.\n",
    "$$"
   ]
  },
  {
   "cell_type": "markdown",
   "id": "ca43b2b6",
   "metadata": {},
   "source": [
    "For this model, we will use reduced MD units, such that $\\sigma = 1 $, $  \\epsilon=1$,  $k_b = 1$.\n",
    "All the particles have unit mass.\n",
    "\n",
    "$ r_c = 2^{1/6}\\sigma $"
   ]
  },
  {
   "cell_type": "markdown",
   "id": "8056b3b6",
   "metadata": {},
   "source": [
    "**The homework consists of 5 tasks, 25 points total. You should work in groups of 3-4 people and submit one solution for each group within 3 weeks. You can use GitHub for collaboration.**"
   ]
  },
  {
   "cell_type": "code",
   "execution_count": 1,
   "id": "f18e1be7",
   "metadata": {},
   "outputs": [],
   "source": [
    "#Something like 144 particels "
   ]
  },
  {
   "cell_type": "code",
   "execution_count": 2,
   "id": "161b5197",
   "metadata": {},
   "outputs": [],
   "source": [
    "import numpy as np\n",
    "import matplotlib.pyplot as plt\n",
    "#from scipy.constants import Boltzmann as kb"
   ]
  },
  {
   "cell_type": "markdown",
   "id": "56ea1588",
   "metadata": {},
   "source": [
    "## Task 1.  System initialization\n",
    "\n",
    "1) Write a function that assigns coordinates of  N particles on a square grid inside a square box with side length L. This function should return a 2d array with coordinates for each particle. (1 pt)\n",
    "\n",
    "2) Write a function that takes temperature as input and initializes particle velocities consistent with the given temperature. Make sure that the total momentum of the system is zero. (2 pt)\n"
   ]
  },
  {
   "cell_type": "markdown",
   "id": "abfdf235",
   "metadata": {},
   "source": [
    "1) Initialization of the grid"
   ]
  },
  {
   "cell_type": "code",
   "execution_count": 3,
   "id": "6add0539",
   "metadata": {},
   "outputs": [],
   "source": [
    "def init_lattice(N_particles, L):        # Refernece: https://www.kite.com/python/answers/how-to-get-all-element-combinations-of-two-numpy-arrays-in-python\n",
    "    '''N_particles... number of particels inside the fluid. It needs to be a square number, \n",
    "    else one can not build an equally distance square lattice.\n",
    "    L... length of the box.\n",
    "    '''\n",
    "    nps = np.sqrt(N_particles)    #Calculates how many particles are in one row\n",
    "    init=np.arange(nps)           #Generates an array with the number of particles in a row   \n",
    "    init=init/(len(init)-1)*L     #\n",
    "    grid_points=np.array(np.meshgrid(init,init)).T.reshape(-1, 2)\n",
    "    grid_points=grid_points-L/2\n",
    "    return grid_points"
   ]
  },
  {
   "cell_type": "code",
   "execution_count": 4,
   "id": "a8ba53cb",
   "metadata": {},
   "outputs": [],
   "source": [
    "def init_lattice(N_particles, L):        # Refernece: https://www.kite.com/python/answers/how-to-get-all-element-combinations-of-two-numpy-arrays-in-python\n",
    "    '''N_particles... number of particels inside the fluid. It needs to be a square number, \n",
    "    else one can not build an equally distance square lattice.\n",
    "    L... length of the box.\n",
    "    '''\n",
    "    nps = np.sqrt(N_particles)    #Calculates how many particles are in one row\n",
    "    distance = L/(nps*2)\n",
    "    init=np.linspace(distance,L-distance,int(nps))           #Generates an array with the number of particles in a row   \n",
    "    grid_points=np.array(np.meshgrid(init,init)).T.reshape(-1, 2)\n",
    "    grid_points=grid_points-L/2\n",
    "    return grid_points"
   ]
  },
  {
   "cell_type": "code",
   "execution_count": 5,
   "id": "40146bc1",
   "metadata": {},
   "outputs": [],
   "source": [
    "L = 6\n",
    "x_init = init_lattice(36, L)\n",
    "x_up_r=x_init+np.array([6,6])\n",
    "x_r=x_init+np.array([6,0])\n",
    "x_r_down=x_init+np.array([6,-6])\n",
    "x_up_c=x_init+np.array([0,6])\n",
    "x_down_c=x_init+np.array([0,-6])\n",
    "x_up_l=x_init+np.array([-6,6])\n",
    "x_l=x_init+np.array([-6,0])\n",
    "x_l_down=x_init+np.array([-6,-6])\n",
    "x_new = np.concatenate((x_init,x_up_r,x_r,x_r_down,x_up_c,x_down_c,x_up_l,x_l,x_l_down),axis=0)"
   ]
  },
  {
   "cell_type": "code",
   "execution_count": 6,
   "id": "b5d8beb9",
   "metadata": {
    "scrolled": false
   },
   "outputs": [
    {
     "data": {
      "image/png": "[encoded data removed]",
      "text/plain": [
       "<Figure size 720x720 with 1 Axes>"
      ]
     },
     "metadata": {
      "needs_background": "light"
     },
     "output_type": "display_data"
    }
   ],
   "source": [
    "plt.figure(figsize=(10,10))\n",
    "\n",
    "plt.plot(x_new[:,0],x_new[:,1],\"x\",c=\"k\")\n",
    "#plt.plot(x_up_r[:,0],x_up_r[:,1],\"x\",c=\"k\")\n",
    "#plt.plot(x_r[:,0],x_r[:,1],\"x\",c=\"k\")\n",
    "#plt.plot(x_r_down[:,0],x_r_down[:,1],\"x\",c=\"k\")\n",
    "#plt.plot(x_up_c[:,0],x_up_c[:,1],\"x\",c=\"k\")\n",
    "#plt.plot(x_down_c[:,0],x_down_c[:,1],\"x\",c=\"k\")\n",
    "#plt.plot(x_up_l[:,0],x_up_r[:,1],\"x\",c=\"k\")\n",
    "#plt.plot(x_l[:,0],x_r[:,1],\"x\",c=\"k\")\n",
    "#plt.plot(x_l_down[:,0],x_r_down[:,1],\"x\",c=\"k\")\n",
    "\n",
    "plt.vlines(L/2,-L/2,L/2)\n",
    "plt.vlines(-L/2,-L/2,L/2)\n",
    "plt.hlines(L/2,-L/2,L/2)\n",
    "plt.hlines(-L/2,-L/2,L/2)\n",
    "plt.xlabel(\"x\")\n",
    "plt.ylabel(\"y\")\n",
    "plt.gca().set_aspect(\"equal\")\n",
    "plt.show()"
   ]
  },
  {
   "cell_type": "markdown",
   "id": "64d0ba7a",
   "metadata": {},
   "source": [
    "2) Initialize velocity"
   ]
  },
  {
   "cell_type": "code",
   "execution_count": 7,
   "id": "35815d5f",
   "metadata": {},
   "outputs": [],
   "source": [
    "def init_velocity(T,N):               # Ref.: https://nanohub.org/resources/7579/download/Martini_L7_Initialization.pdf\n",
    "    v = np.zeros((N,2))               # Initalize velocities.\n",
    "    r = (np.random.rand(N,2)-0.5)*2   # Generates random numbers from -1,1  \n",
    "    v = r*np.sqrt(2*T)                # calculates velocity after equipartion theorem U = f/2 * kb*T, with U= 1/2 m*v^2\n",
    "    v = v - np.mean(v,axis=0)         # Makes sure that the sum over all velocities is zero\n",
    "    return v"
   ]
  },
  {
   "cell_type": "code",
   "execution_count": 8,
   "id": "b3dab725",
   "metadata": {},
   "outputs": [],
   "source": [
    "def init_velocity(T,N):              \n",
    "    return np.random.normal(0,np.sqrt(T),(N,2))"
   ]
  },
  {
   "cell_type": "code",
   "execution_count": 9,
   "id": "94caeef1",
   "metadata": {},
   "outputs": [],
   "source": [
    "#np.random.normal(0,np.sqrt(T),(N,2))"
   ]
  },
  {
   "cell_type": "code",
   "execution_count": 10,
   "id": "60b0d75b",
   "metadata": {},
   "outputs": [],
   "source": [
    "#init_velocity(1,36)"
   ]
  },
  {
   "cell_type": "code",
   "execution_count": 11,
   "id": "e4650add",
   "metadata": {},
   "outputs": [
    {
     "data": {
      "text/plain": [
       "array([[  8.45695485,  -5.45360057],\n",
       "       [ -5.81061372,   4.75435079],\n",
       "       [ -4.17403136,  -9.95465566],\n",
       "       ...,\n",
       "       [ 11.80679641, -16.98976676],\n",
       "       [ 22.04061093, -33.34842554],\n",
       "       [ -1.74127331, -17.90830069]])"
      ]
     },
     "execution_count": 11,
     "metadata": {},
     "output_type": "execute_result"
    }
   ],
   "source": [
    "a=init_velocity(120,3500)\n",
    "np.sum(a,axis=0)\n",
    "a"
   ]
  },
  {
   "cell_type": "code",
   "execution_count": 12,
   "id": "d4d6fe4e",
   "metadata": {},
   "outputs": [
    {
     "data": {
      "image/png": "[encoded data removed]",
      "text/plain": [
       "<Figure size 432x288 with 1 Axes>"
      ]
     },
     "metadata": {
      "needs_background": "light"
     },
     "output_type": "display_data"
    }
   ],
   "source": [
    "plt.hist(a[:,0])\n",
    "plt.show()\n",
    "#plt.hist(a[:,1])\n",
    "#plt.show()"
   ]
  },
  {
   "cell_type": "markdown",
   "id": "077b784f",
   "metadata": {},
   "source": [
    "## Task 2. Building MD code  \n",
    "\n",
    "\n",
    "1) Write code to perform molecular dynamics simulation of your system according to the following algorithm:\n",
    "\n",
    " *  Initialize positions, velocities, and accelerations for your system.\n",
    " * For each modeling step:\n",
    "      - Update coordinates using velocity Verlet algorithm. (1 pt)\n",
    "      - Apply periodic boundary conditions to coordinates. (1pt)\n",
    "      - Calculate the force acting on each particle and accelerations. Keep in mind minimum image convention! (4 pt)\n",
    "      - Update velocities using velocity Verlet algorithm. (1pt)"
   ]
  },
  {
   "cell_type": "markdown",
   "id": "89c3100c",
   "metadata": {},
   "source": [
    "Fragen:\n",
    "1) PBC causes particles to overlap\n",
    "\n",
    "2) How to implement minimum image convention"
   ]
  },
  {
   "cell_type": "code",
   "execution_count": 13,
   "id": "5c6f0fbf",
   "metadata": {},
   "outputs": [],
   "source": [
    "#def harmonic(x, w=1.0):\n",
    "#    return -w**2*x\n",
    "#f = np.zeros((144,2))\n",
    "#a=x[:,1,:]\n",
    "#b= a[0]-a[1:]\n",
    "#c=np.sum(b ** 2, axis=1)\n",
    "#d=4*(12/c**7 - 6/c**4)*b\n",
    "#ind = np.where(c<12)\n",
    "#c_new = c[ind][:, np.newaxis]\n",
    "#ind\n",
    "#b[ind,:]"
   ]
  },
  {
   "cell_type": "code",
   "execution_count": 14,
   "id": "c6cb4cb7",
   "metadata": {},
   "outputs": [],
   "source": [
    "#r= 1/np.array([1,2,3,4,5])\n",
    "#rc= 1/2\n",
    "#np.heaviside(r-rc,1)"
   ]
  },
  {
   "cell_type": "code",
   "execution_count": 15,
   "id": "846f61cc",
   "metadata": {},
   "outputs": [],
   "source": [
    "def force_test(N,position):\n",
    "    return np.zeros((N, 2))"
   ]
  },
  {
   "cell_type": "code",
   "execution_count": 16,
   "id": "8930851d",
   "metadata": {},
   "outputs": [],
   "source": [
    "#pos=x[:,2,:]\n",
    "#vec=pos[0]-pos[1:]\n",
    "#r=np.sum(vec**2, axis=1)\n",
    "#np.heaviside(2**(1/3)-r,1)\n",
    "#4*(12/r[4]**7-6/r[4]**7)*vec[4]"
   ]
  },
  {
   "cell_type": "code",
   "execution_count": 17,
   "id": "9520450b",
   "metadata": {},
   "outputs": [],
   "source": [
    "#pos[1:][4],pos[0]"
   ]
  },
  {
   "cell_type": "code",
   "execution_count": 18,
   "id": "a0443f91",
   "metadata": {
    "scrolled": true
   },
   "outputs": [],
   "source": [
    "#a=LJ_trunc(36,x[:,2,:])"
   ]
  },
  {
   "cell_type": "code",
   "execution_count": 19,
   "id": "5f951c49",
   "metadata": {},
   "outputs": [],
   "source": [
    "def LJ_trunc_old(N,position):\n",
    "    forces = np.zeros((N, 2))\n",
    "    for i in range(N):\n",
    "        r_vec = position[i]-position[i + 1:]                    \n",
    "        r_squared = np.sum(r_vec ** 2, axis=1)[:, np.newaxis]           # calculates [1/r12^2,1/r13^2,...]. Is like [:, np.newaxis] reshape(143,1)                                \n",
    "        force = np.heaviside(2**(1/3)-r_squared,1)*4*(12*1/r_squared**7 - 6*1/r_squared**4)*r_vec  # calculates array(F12,F13,...). np.heaviside(2**(-1/3)-r_inv_squared,1)\n",
    "        forces[i] += np.sum(force, axis=0)                                # sums them up\n",
    "        forces[i + 1:] -= force                                           # for next loop F21 is missing, but F21 =-F12 and we save is preventively\n",
    "    return forces                                                         # F=a if m=1"
   ]
  },
  {
   "cell_type": "code",
   "execution_count": 20,
   "id": "221817c9",
   "metadata": {},
   "outputs": [],
   "source": [
    "def LJ_trunc(N,position,L):\n",
    "    forces = np.zeros((N*9, 2))    \n",
    "    rc_squared = 2**(1/3)\n",
    "    for i in range(N):\n",
    "        x_up_r=position[i + 1:]+np.array([L,L])\n",
    "        x_r=position[i + 1:]+np.array([L,0])\n",
    "        x_r_down=position[i + 1:]+np.array([L,-L])\n",
    "        x_up_c=position[i + 1:]+np.array([0,L])\n",
    "        x_down_c=position[i + 1:]+np.array([0,-L])\n",
    "        x_up_l=position[i + 1:]+np.array([-L,L])\n",
    "        x_l=position[i + 1:]+np.array([-L,0])\n",
    "        x_l_down=position[i + 1:]+np.array([-L,-L])\n",
    "        pos = np.concatenate((position,x_up_r,x_r,x_r_down,x_up_c,x_down_c,x_up_l,x_l,x_l_down),axis=0)\n",
    "        \n",
    "        r_vec = pos[i]-pos[i + 1:]                    \n",
    "        force = np.zeros((N*9-i-1,2))\n",
    "        r_squared = np.sum(r_vec ** 2, axis=1)           # calculates [1/r12^2,1/r13^2,...]. Is like [:, np.newaxis] reshape(143,1)\n",
    "        index = np.where(r_squared<rc_squared)\n",
    "        r_squared_new = r_squared[index][:, np.newaxis]\n",
    "        r_vec_new = r_vec[index,:]                                       #np.heaviside(2**(-1/3)-r_inv_squared,1)\n",
    "        force[index,:] = 4*(12*1/r_squared_new**7 - 6*1/r_squared_new**4)*r_vec_new  # calculates array(F12,F13,...). np.heaviside(2**(-1/3)-r_inv_squared,1)\n",
    "        forces[i] += np.sum(force, axis=0)                                # sums them up\n",
    "        forces[i + 1:] -= force                                           # for next loop F21 is missing, but F21 =-F12 and we save is preventively\n",
    "    return forces[0:36,:]                                                         # F=a if m=1"
   ]
  },
  {
   "cell_type": "code",
   "execution_count": 21,
   "id": "afec1ed2",
   "metadata": {},
   "outputs": [],
   "source": [
    "def apply_pbc(L, position): # Improve by vectorizing for loop\n",
    "    x = position[:,:1]\n",
    "    y = position[:,1:]\n",
    "    # updating x\n",
    "    for i in range(len(x)):\n",
    "        if x[i] > L/2:\n",
    "            x[i] = x[i] - L\n",
    "        elif x[i] < -L/2:\n",
    "            x[i] = x[i] + L\n",
    "        else:\n",
    "            x[i] = x[i]\n",
    "        \n",
    "    # updating y\n",
    "    for i in range(len(y)):\n",
    "        if y[i] > L/2:\n",
    "            y[i] = y[i] - L\n",
    "        elif y[i] < -L/2:\n",
    "            y[i] = y[i] + L\n",
    "        else:\n",
    "            y[i] = y[i]\n",
    "        \n",
    "    pos_new = np.concatenate((x,y),axis=1)    #np.array((x,y)).reshape(-1, 2)\n",
    "    return pos_new"
   ]
  },
  {
   "cell_type": "code",
   "execution_count": 22,
   "id": "6180832a",
   "metadata": {},
   "outputs": [],
   "source": [
    "def valet_velocity(N,L,x0,v0,force,boundary,dt=0.01,nsteps=1000):\n",
    "    x = np.zeros((N,nsteps+1,2))\n",
    "    v = np.zeros((N,nsteps,2))\n",
    "    v[:,0,:] = v0\n",
    "    x[:,0,:] = x0-v[:,0,:]*dt\n",
    "    x[:,1,:] = x0\n",
    "    for i in range(2,nsteps+1):\n",
    "        x[:,i,:] = 2*x[:,i-1,:]-x[:,i-2,:]+force(N,x[:,i-1,:],L)*dt**2\n",
    "        x[:,i,:] = boundary(L, x[:,i,:])\n",
    "        v[:,i-1,:] = (x[:,i,:]-x[:,i-2,:])/(2*dt)\n",
    "    return x[:,1:,:], v"
   ]
  },
  {
   "cell_type": "code",
   "execution_count": 23,
   "id": "11a3c8c3",
   "metadata": {},
   "outputs": [],
   "source": [
    "def valet_velocity_new(x_prev,x_cur,force,dt):\n",
    "    x_new = 2*x_cur-x_prev+force*dt**2\n",
    "    v_new = (x_new - x_prev) / (2 * dt)\n",
    "    return x_new, v_new"
   ]
  },
  {
   "cell_type": "code",
   "execution_count": 24,
   "id": "c0ff1b52",
   "metadata": {},
   "outputs": [],
   "source": [
    "def md(N,x0,v0,dt,L,nsteps):\n",
    "    x = np.zeros((nsteps,N,2))\n",
    "    v = np.zeros((nsteps,N,2))\n",
    "    x_prev = x0-v0*dt\n",
    "    x_cur = x0\n",
    "    for i in range(nsteps):\n",
    "        force=LJ_trunc(N,x_cur,L)\n",
    "        x[i], v[i] = valet_velocity_new(x_prev,x_cur,force,dt)\n",
    "        x_prev = x[i]-v[i]*dt\n",
    "        x_cur = x[i]\n",
    "        x[i] = apply_pbc(L,x[i])\n",
    "    return x, v"
   ]
  },
  {
   "cell_type": "code",
   "execution_count": 25,
   "id": "33723c60",
   "metadata": {},
   "outputs": [],
   "source": [
    "x0 = init_lattice(36, 6)\n",
    "v0 = init_velocity(1,36)\n",
    "#x_old,v_old = valet_velocity(36,6,x0,v0,LJ_trunc_old,apply_pbc,dt=0.005,nsteps=5000)\n",
    "#x,v = valet_velocity_new(36,6,x0,v0,LJ_trunc,apply_pbc,dt=0.005,nsteps=5000)\n",
    "x, v = md(36,x0,v0,dt=0.005,L=6,nsteps=5000)"
   ]
  },
  {
   "cell_type": "code",
   "execution_count": 26,
   "id": "cb8bed82",
   "metadata": {},
   "outputs": [
    {
     "data": {
      "image/png": "[encoded data removed]",
      "text/plain": [
       "<Figure size 432x288 with 1 Axes>"
      ]
     },
     "metadata": {
      "needs_background": "light"
     },
     "output_type": "display_data"
    }
   ],
   "source": [
    "plt.plot(x[-1,:,:1],x[-1,:,1:],'o')\n",
    "#plt.plot(x_old[:,-1,:1],x_old[:,-1,1:],'o')\n",
    "#plt.plot(x0[:,0],x0[:,1],'o')\n",
    "plt.xlabel(\"x\")\n",
    "plt.ylabel(\"y\")\n",
    "#plt.xlim(-3,3)\n",
    "#plt.ylim(-3,3)\n",
    "#plt.gca().set_aspect(\"equal\")\n",
    "#plt.savefig('MD')\n",
    "plt.show()"
   ]
  },
  {
   "cell_type": "code",
   "execution_count": null,
   "id": "9ee103e9",
   "metadata": {},
   "outputs": [],
   "source": [
    "#np.linalg.norm(x[:,0,:],axis=1)"
   ]
  },
  {
   "cell_type": "code",
   "execution_count": null,
   "id": "e3912974",
   "metadata": {},
   "outputs": [],
   "source": [
    "#plt.plot(v[0,:,1:])\n",
    "#plt.plot(x[0,:,1:],'x')"
   ]
  },
  {
   "cell_type": "markdown",
   "id": "a2de4586",
   "metadata": {},
   "source": [
    "## Task 3. Simulations in the microcanonical ensemble\n",
    "\n",
    "1) Use the code you wrote in task 3 to run MD simulation of a system with 36 particles in a square box with side length L = 6 for at least 5000 steps. Initialize velocities using T=1. Use integration step dt = 0.005. Save coordinates and velocities at each step to a file. (2 pt)\n",
    "\n",
    "2) For each timestep, calculate and plot the following values as a function of time: $\\sum_i^{N particles} V_x^i $, $\\sum_y^{N particles} V_y^i $, $E_{total}$, $E_{potential}$, $E_{kinetic}$, temperature. Which of the these values should be conserved? Do your results match the prediction?  (3 pt)\n",
    "\n",
    "3) Was the modeling time enough for the system to equilibrate? Explain.  (1 pt)\n"
   ]
  },
  {
   "cell_type": "markdown",
   "id": "20e00fa7",
   "metadata": {},
   "source": [
    "## Task 4. Constant temperature molecular  dynamics\n",
    "\n",
    "In this task, you will extend code from task 2 to run the simulation at a constant temperature using Langevin dynamics.\n",
    "\n",
    "1) Implement integration of the Langevin equation. (2 pt)\n",
    "\n",
    "2) Simulate cooling of the liquid with 144 particles in the box with L=12. First, run the simulation at T=1.4 for 2000 steps. Use final coordinates and velocities to start another simulation, this time with T=1.2.  Run this lower-temperature simulation for 2000 steps. Keep restarting the simulation, each time decreasing the temperature by 0.2. The final run should be performed at T=0.6  In all the simulations, use a constant friction coefficient of your choice. (2 pt)\n",
    "\n",
    "3) Visualize several frames from a low-temperature fragment of the trajectory. These frames represent the microscopic structure of the frozen soft-disk liquid. Is the structure different from the initial square-grid arrangement? (1 pt)"
   ]
  },
  {
   "cell_type": "markdown",
   "id": "f3f9a356",
   "metadata": {},
   "source": [
    "## Task 5. Considerations when modeling realistic systems\n",
    "\n",
    "It is easy to run a simulation that yields meaningless results when doing molecular dynamics simulation. To avoid this problem, one should know the properties and limitations of the algorithms used. To prevent some of the common pitfalls in the future, answer the following questions.\n",
    "\n",
    "1) What is the maximum cut-off radius for nonbonded interactions in a periodic system with cubic box size L?  Explain your answer. (1 pt)\n",
    "\n",
    "2) Can the Andersen thermostat be used to study dynamic properties of the system, such as diffusion coefficients. Why? (1 pt)\n",
    "\n",
    "3) What is the purpose of the particle mesh Evald (PME) algorithm? Please briefly describe the method and a) why it is used, b) which caveats does it have, c) what are the alternatives (3 pt)"
   ]
  },
  {
   "cell_type": "code",
   "execution_count": null,
   "id": "51eceb78",
   "metadata": {},
   "outputs": [],
   "source": []
  }
 ],
 "metadata": {
  "kernelspec": {
   "display_name": "Python 3 (ipykernel)",
   "language": "python",
   "name": "python3"
  },
  "language_info": {
   "codemirror_mode": {
    "name": "ipython",
    "version": 3
   },
   "file_extension": ".py",
   "mimetype": "text/x-python",
   "name": "python",
   "nbconvert_exporter": "python",
   "pygments_lexer": "ipython3",
   "version": "3.9.7"
  },
  "toc": {
   "base_numbering": 1,
   "nav_menu": {},
   "number_sections": true,
   "sideBar": true,
   "skip_h1_title": false,
   "title_cell": "Table of Contents",
   "title_sidebar": "Contents",
   "toc_cell": false,
   "toc_position": {},
   "toc_section_display": true,
   "toc_window_display": false
  }
 },
 "nbformat": 4,
 "nbformat_minor": 5
}
